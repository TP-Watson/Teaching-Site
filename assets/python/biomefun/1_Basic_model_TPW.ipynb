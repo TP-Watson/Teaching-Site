{
 "cells": [
  {
   "cell_type": "markdown",
   "id": "95d830a4-a1e6-4376-ae31-c60db4a6ea2a",
   "metadata": {},
   "source": [
    "# BiomeFUN \n",
    "# Stoichiometric Modelling\n",
    "\n",
    "## Basic Properties of a Netowrk\n",
    "Blocked reactions on small model"
   ]
  },
  {
   "cell_type": "code",
   "execution_count": 86,
   "id": "391bd994-240c-487d-917f-840c908af0f5",
   "metadata": {},
   "outputs": [
    {
     "name": "stdout",
     "output_type": "stream",
     "text": [
      "Reaction v3 is blocked\n"
     ]
    }
   ],
   "source": [
    "import numpy as np\n",
    "from scipy.linalg import null_space\n",
    "\n",
    "rxns = np.array(['v1','v2','v3','v4'])\n",
    "\n",
    "S = np.array([\n",
    "    #v1  v2  v3  v4\n",
    "    [1,  -1, -1,  0],   # A\n",
    "    [0,   1, -1, -1],   # B\n",
    "    [0,  -1,  0,  1],   # NADH\n",
    "    [0,   1,  0, -1],   # NAD\n",
    "    [0,   0,  1,  0],   # NADPH\n",
    "    [0,   0, -1,  0],   # NADP\n",
    "], dtype=float)\n",
    "\n",
    "NS = null_space(S)            # Calculating the nullspace of S\n",
    "blocked_mask = np.all(np.isclose(NS, 0.0, atol=1e-12), axis=1)\n",
    "blocked = rxns[blocked_mask]  # Which reactions did not carry a solution in the NS?\n",
    "\n",
    "# Print blocked reactions if they exist\n",
    "for r in blocked:\n",
    "    print(f\"Reaction {r} is blocked\")"
   ]
  },
  {
   "cell_type": "markdown",
   "id": "52ab2fea-d1ad-40da-b429-0aa47265c4f6",
   "metadata": {},
   "source": [
    "Blocked reactions with less cofactors"
   ]
  },
  {
   "cell_type": "code",
   "execution_count": 89,
   "id": "c56c72e2-6895-4193-8379-34ed629bb0ee",
   "metadata": {},
   "outputs": [],
   "source": [
    "rxns = np.array(['v1','v2','v3','v4'])\n",
    "\n",
    "S = np.array([\n",
    "    #v1  v2  v3  v4\n",
    "    [1,  -1, -1,  0],   # A\n",
    "    [0,   1,  1, -1],   # B\n",
    "    [0,  -1, -1,  1],   # NADH\n",
    "    [0,   1,  1, -1],   # NAD\n",
    "], dtype=float)\n",
    "\n",
    "NS = null_space(S)            # columns = basis vectors of ker(S)\n",
    "blocked_mask = np.all(np.isclose(NS, 0.0, atol=1e-12), axis=1)\n",
    "blocked = rxns[blocked_mask]\n",
    "\n",
    "for r in blocked:\n",
    "    print(f\"Reaction {r} is blocked\")"
   ]
  },
  {
   "cell_type": "markdown",
   "id": "b7218c13-1b25-45c5-9d3e-8e6a28bef237",
   "metadata": {},
   "source": [
    "## Basic properties of a Network\n",
    "\n",
    "Internal cycles"
   ]
  },
  {
   "cell_type": "code",
   "execution_count": 107,
   "id": "9d26a872-62ed-4d17-86d6-3bf5ccf9976d",
   "metadata": {},
   "outputs": [
    {
     "name": "stdout",
     "output_type": "stream",
     "text": [
      "Internal cycle detected!\n",
      "Cycle flux distribution: {'v2': -0.707, 'v3': 0.707, 'v4': 0.0}\n"
     ]
    }
   ],
   "source": [
    "# Shut down v1 by removing its column\n",
    "keep = [1, 2, 3]   # indices of v2, v3, v4\n",
    "S_reduced = S[:, keep]\n",
    "\n",
    "# Calculate the NullSpace of this reduced model\n",
    "NS_reduced = null_space(S_reduced, rcond=1e-12)\n",
    "\n",
    "if NS_reduced.shape[1] == 0:\n",
    "    print(\"No internal cycle: null space is trivial after v1=0\")\n",
    "else:\n",
    "    print(\"Internal cycle detected!\")\n",
    "    # map back to reactions\n",
    "    cycle = dict(zip(rxns[1:], NS_reduced[:,0].round(3)))\n",
    "    print(\"Cycle flux distribution:\", cycle)"
   ]
  },
  {
   "cell_type": "markdown",
   "id": "040c73a3-6e70-4dc3-b36c-c38f1a3f4240",
   "metadata": {},
   "source": [
    "## Using the null space to interpret metabolic models  \n",
    "\n",
    "The null space of the stoichiometric matrix gives insight into two key phenomena:  \n",
    "\n",
    "### Blocked reactions  \n",
    "- **Definition:** reactions that *cannot* carry any steady-state flux because their substrates/products cannot be balanced in the network.  \n",
    "- **Implication:** they are effectively “dead” under the current network and bounds.  \n",
    "- **Possible fixes:**  \n",
    "  - Add missing exchange/transport reactions for metabolites that have no supply/consumption.  \n",
    "  - Adjust reversibility or check for missing links.  \n",
    "- **Can you ignore them?** Yes — but they will never contribute to flux distributions until fixed.  \n",
    "\n",
    "### Internal cycles (futile loops)  \n",
    "- **Definition:** sets of reactions that can circulate flux internally while still satisfying steady-state (`S v = 0`), even without any external input.  \n",
    "- **Implication:** they represent thermodynamically infeasible or unconstrained fluxes.  \n",
    "- **Possible fixes:**  \n",
    "  - Refine reversibility assumptions.  \n",
    "  - Use thermodynamic or experimental constraints to rule them out.  \n",
    "- **Can you ignore them?** Yes — but be aware that they allow non-identifiable solutions; loopless FBA or additional constraints are often used to prevent them.  "
   ]
  },
  {
   "cell_type": "code",
   "execution_count": null,
   "id": "9bfbcd66-2695-4596-b874-59f1e577b111",
   "metadata": {},
   "outputs": [],
   "source": []
  }
 ],
 "metadata": {
  "kernelspec": {
   "display_name": "Python (BiomeFUN_2025)",
   "language": "python",
   "name": "biomefun_2025"
  },
  "language_info": {
   "codemirror_mode": {
    "name": "ipython",
    "version": 3
   },
   "file_extension": ".py",
   "mimetype": "text/x-python",
   "name": "python",
   "nbconvert_exporter": "python",
   "pygments_lexer": "ipython3",
   "version": "3.9.23"
  }
 },
 "nbformat": 4,
 "nbformat_minor": 5
}
