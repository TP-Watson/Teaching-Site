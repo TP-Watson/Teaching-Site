{
 "cells": [
  {
   "cell_type": "markdown",
   "id": "f461ed5d-edc2-4882-a4f0-a9d0b5387dc0",
   "metadata": {},
   "source": [
    "# BiomeFUN \n",
    "# Stoichiometric Modelling\n",
    "\n",
    "This notebook contains the exercises covered in the lecture on Stoichiometric Metabolic Modelling by Timmy Paez Watson. Some lines of code have been removed to be completed during the lecture. For access to the complete notebooks, please go to: https://tp-watson.github.io/Teaching-Site/materials/\n",
    "## Model simulations with COBRA: E coli core model"
   ]
  },
  {
   "cell_type": "code",
   "execution_count": 1,
   "id": "74af5fbf",
   "metadata": {},
   "outputs": [],
   "source": [
    "import cobra\n",
    "from cobra.io import load_json_model\n",
    "\n",
    "# Load the Core E coli model - saved in the same folder\n",
    "model = load_json_model(\"Ecoli_core.json\")\n",
    "\n",
    "\n",
    "# Custom functions to check solutions of FBA\n",
    "\n",
    "def metabolite_flux_summary(model, met_id, solution):\n",
    "    \"\"\"\n",
    "    For a given metabolite and FBA solution, print net production/consumption\n",
    "    by each reaction.\n",
    "\n",
    "    Parameters:\n",
    "    - model: COBRA model\n",
    "    - met_id: metabolite ID (e.g., 'atp_c')\n",
    "    - solution: a solution object from model.optimize()\n",
    "    \"\"\"\n",
    "    try:\n",
    "        met = model.metabolites.get_by_id(met_id)\n",
    "    except KeyError:\n",
    "        print(f\"❌ Metabolite '{met_id}' not found in model.\")\n",
    "        return\n",
    "\n",
    "    print(f\"\\n🔬 Net flux contribution for '{met_id}' ({met.name}):\")\n",
    "\n",
    "    producers = []\n",
    "    consumers = []\n",
    "\n",
    "    for rxn in met.reactions:\n",
    "        coeff = rxn.metabolites[met]         # stoichiometry\n",
    "        flux = solution.fluxes[rxn.id]       # actual flux value\n",
    "        net = coeff * flux                   # net production/consumption\n",
    "\n",
    "        if net > 0:\n",
    "            producers.append((rxn.id, net))\n",
    "        elif net < 0:\n",
    "            consumers.append((rxn.id, net))\n",
    "\n",
    "    # Sort by absolute value of net flux\n",
    "    producers.sort(key=lambda x: abs(x[1]), reverse=True)\n",
    "    consumers.sort(key=lambda x: abs(x[1]), reverse=True)\n",
    "\n",
    "    print(\"\\n✅ Produced by:\")\n",
    "    for rxn_id, net in producers:\n",
    "        print(f\"  {rxn_id:25s} → +{net:.3f} mmol/gDW/h\")\n",
    "\n",
    "    print(\"\\n❌ Consumed by:\")\n",
    "    for rxn_id, net in consumers:\n",
    "        print(f\"  {rxn_id:25s} → {net:.3f} mmol/gDW/h\")\n"
   ]
  },
  {
   "cell_type": "markdown",
   "id": "43c483b8",
   "metadata": {},
   "source": [
    "## Explore the model basics"
   ]
  },
  {
   "cell_type": "code",
   "execution_count": 2,
   "id": "305b5ff5",
   "metadata": {},
   "outputs": [
    {
     "name": "stdout",
     "output_type": "stream",
     "text": [
      "Reactions: 95\n",
      "Metabolites: 72\n",
      "Genes: 137\n",
      "PFK : atp_c + f6p_c --> adp_c + fdp_c + h_c\n",
      "PFL : coa_c + pyr_c --> accoa_c + for_c\n",
      "PGI : g6p_c <=> f6p_c\n",
      "PGK : 3pg_c + atp_c <=> 13dpg_c + adp_c\n",
      "PGL : 6pgl_c + h2o_c --> 6pgc_c + h_c\n"
     ]
    }
   ],
   "source": [
    "# Explore model\n",
    "print(f\"Reactions: {len(model.reactions)}\")\n",
    "print(f\"Metabolites: {len(model.metabolites)}\")\n",
    "print(f\"Genes: {len(model.genes)}\")\n",
    "\n",
    "# Show some reactions\n",
    "for r in list(model.reactions)[:5]:\n",
    "    print(r.id, \":\", r.reaction)"
   ]
  },
  {
   "cell_type": "markdown",
   "id": "b0a719bb",
   "metadata": {},
   "source": [
    "## Let's start by maximizing growth with oxygen"
   ]
  },
  {
   "cell_type": "code",
   "execution_count": 3,
   "id": "bfed9e15-08df-4399-90dc-2baf490c4101",
   "metadata": {},
   "outputs": [
    {
     "name": "stdout",
     "output_type": "stream",
     "text": [
      "Maximize\n",
      "1.0*BIOMASS_Ecoli_core_w_GAM - 1.0*BIOMASS_Ecoli_core_w_GAM_reverse_712e5\n"
     ]
    }
   ],
   "source": [
    "print(model.objective)"
   ]
  },
  {
   "cell_type": "code",
   "execution_count": 5,
   "id": "da67a75b",
   "metadata": {},
   "outputs": [
    {
     "name": "stdout",
     "output_type": "stream",
     "text": [
      "optimal\n",
      "Aerobic growth: 0.8739215069684311\n"
     ]
    }
   ],
   "source": [
    "# Set glucose uptake\n",
    "model.reactions.get_by_id(\"EX_glc__D_e\").lower_bound = - 10       # TO BE COMPLETED \n",
    "\n",
    "# Solve FBA\n",
    "sol_aerobic = model.optimize()\n",
    "print(sol_aerobic.status)\n",
    "print(\"Aerobic growth:\", sol_aerobic.objective_value)\n",
    "\n"
   ]
  },
  {
   "cell_type": "code",
   "execution_count": 9,
   "id": "44fb38b3-0d98-4acb-b515-ebc7d79a6f53",
   "metadata": {},
   "outputs": [
    {
     "name": "stdout",
     "output_type": "stream",
     "text": [
      "\n",
      "🔬 Net flux contribution for 'o2_e' (O2 O2):\n",
      "\n",
      "✅ Produced by:\n",
      "  EX_o2_e                   → +21.799 mmol/gDW/h\n",
      "\n",
      "❌ Consumed by:\n",
      "  O2t                       → -21.799 mmol/gDW/h\n",
      "\n",
      "🔬 Net flux contribution for 'atp_c' (ATP C10H12N5O13P3):\n",
      "\n",
      "✅ Produced by:\n",
      "  ATPS4r                    → +45.514 mmol/gDW/h\n",
      "  PGK                       → +16.024 mmol/gDW/h\n",
      "  SUCOAS                    → +5.064 mmol/gDW/h\n",
      "  PYK                       → +1.758 mmol/gDW/h\n",
      "\n",
      "❌ Consumed by:\n",
      "  BIOMASS_Ecoli_core_w_GAM  → -52.269 mmol/gDW/h\n",
      "  ATPM                      → -8.390 mmol/gDW/h\n",
      "  PFK                       → -7.477 mmol/gDW/h\n",
      "  GLNS                      → -0.223 mmol/gDW/h\n"
     ]
    }
   ],
   "source": [
    "# Use our custom function to check what reactions use/produce O2 and ATP\n",
    "metabolite_flux_summary(model, \"o2_e\", sol_aerobic)\n",
    "metabolite_flux_summary(model, \"atp_c\", sol_aerobic)"
   ]
  },
  {
   "cell_type": "markdown",
   "id": "51bd6dd9",
   "metadata": {},
   "source": [
    "## Now let's try to simulate anaerobic growth"
   ]
  },
  {
   "cell_type": "code",
   "execution_count": 12,
   "id": "93fd1e8e",
   "metadata": {},
   "outputs": [
    {
     "name": "stdout",
     "output_type": "stream",
     "text": [
      "optimal\n",
      "Fermentative Growth: 0.21166294973531055\n",
      "\n",
      "🔬 Net flux contribution for 'o2_e' (O2 O2):\n",
      "\n",
      "✅ Produced by:\n",
      "\n",
      "❌ Consumed by:\n",
      "\n",
      "🔬 Net flux contribution for 'atp_c' (ATP C10H12N5O13P3):\n",
      "\n",
      "✅ Produced by:\n",
      "  PGK                       → +19.437 mmol/gDW/h\n",
      "  ACKr                      → +8.504 mmol/gDW/h\n",
      "  PYK                       → +8.404 mmol/gDW/h\n",
      "\n",
      "❌ Consumed by:\n",
      "  BIOMASS_Ecoli_core_w_GAM  → -12.660 mmol/gDW/h\n",
      "  PFK                       → -9.789 mmol/gDW/h\n",
      "  ATPM                      → -8.390 mmol/gDW/h\n",
      "  ATPS4r                    → -5.452 mmol/gDW/h\n",
      "  GLNS                      → -0.054 mmol/gDW/h\n"
     ]
    }
   ],
   "source": [
    "# Limit oxygen *uptake* from environment\n",
    "model.reactions.get_by_id(\"EX_o2_e\").lower_bound = 0  # TO BE COMPLETED\n",
    "\n",
    "# Solve FBA for growth \n",
    "sol_ferm = model.optimize()\n",
    "print(sol_ferm.status)\n",
    "print(\"Fermentative Growth:\", sol_ferm.objective_value)\n",
    "\n",
    "\n",
    "metabolite_flux_summary(model, \"o2_e\", sol_ferm)\n",
    "metabolite_flux_summary(model, \"atp_c\", sol_ferm)"
   ]
  },
  {
   "cell_type": "markdown",
   "id": "5b428142",
   "metadata": {},
   "source": [
    "## Explore underlying assumptions\n",
    "\n",
    "Open questions you can explore to further understand the model\n",
    "\n",
    "- Where is the energy being used up in?\n",
    "- Is one of the reactions special / strange?\n",
    "- What are the main fermentation products from the anaerobic growth?\n",
    "- How strongly is growth affected by maintenance? - reaction ID \"ATPM\""
   ]
  },
  {
   "cell_type": "code",
   "execution_count": null,
   "id": "d80f831c-33e7-415e-9c00-d33afcb6a261",
   "metadata": {},
   "outputs": [],
   "source": []
  }
 ],
 "metadata": {
  "kernelspec": {
   "display_name": "Python (BiomeFUN_2025)",
   "language": "python",
   "name": "biomefun_2025"
  },
  "language_info": {
   "codemirror_mode": {
    "name": "ipython",
    "version": 3
   },
   "file_extension": ".py",
   "mimetype": "text/x-python",
   "name": "python",
   "nbconvert_exporter": "python",
   "pygments_lexer": "ipython3",
   "version": "3.9.23"
  }
 },
 "nbformat": 4,
 "nbformat_minor": 5
}
