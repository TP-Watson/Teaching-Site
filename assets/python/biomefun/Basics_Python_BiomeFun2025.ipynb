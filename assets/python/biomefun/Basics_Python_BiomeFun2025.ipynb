{
 "cells": [
  {
   "cell_type": "code",
   "execution_count": 3,
   "id": "096b7f3c-f570-458a-8412-e5a96259e966",
   "metadata": {},
   "outputs": [
    {
     "name": "stdout",
     "output_type": "stream",
     "text": [
      "Integer x: 5\n",
      "Float y: 3.14\n",
      "String name: Alice\n",
      "x + y = 8.14\n",
      "Hello Alice\n"
     ]
    }
   ],
   "source": [
    "# Very basic Python introduction for scientific modeling\n",
    "\n",
    "# ------------------------------\n",
    "# 1. Variables and basic types\n",
    "# ------------------------------\n",
    "# A variable stores a value that we can reuse later.\n",
    "\n",
    "x = 5                # integer (whole number)\n",
    "y = 3.14             # float (decimal number)\n",
    "name = \"Alice\"       # string (text)\n",
    "\n",
    "print(\"Integer x:\", x)\n",
    "print(\"Float y:\", y)\n",
    "print(\"String name:\", name)\n",
    "\n",
    "# We can do basic math with numbers\n",
    "z = x + y\n",
    "print(\"x + y =\", z)\n",
    "\n",
    "# Strings can also be combined (concatenated)\n",
    "greeting = \"Hello \" + name\n",
    "print(greeting)\n",
    "\n"
   ]
  },
  {
   "cell_type": "code",
   "execution_count": 5,
   "id": "8010943e-fdd5-4f79-be2e-48bf7f59b2d7",
   "metadata": {},
   "outputs": [
    {
     "name": "stdout",
     "output_type": "stream",
     "text": [
      "\n",
      "Our list: [1, 2, 3, 4, 5]\n",
      "First element: 1\n",
      "Third element: 3\n",
      "First three elements: [1, 2, 3]\n"
     ]
    }
   ],
   "source": [
    "# ------------------------------\n",
    "# 2. Lists and indexing\n",
    "# ------------------------------\n",
    "# A list stores multiple values in order.\n",
    "numbers = [1, 2, 3, 4, 5]   \n",
    "print(\"\\nOur list:\", numbers)\n",
    "\n",
    "# Lists are indexed from 0 (zero-based indexing)\n",
    "print(\"First element:\", numbers[0])\n",
    "print(\"Third element:\", numbers[2])\n",
    "\n",
    "# You can also take slices (sub-lists)\n",
    "print(\"First three elements:\", numbers[:3])\n",
    "\n"
   ]
  },
  {
   "cell_type": "code",
   "execution_count": 9,
   "id": "202e76e6-3f54-40c1-96b6-a33a6d355a47",
   "metadata": {},
   "outputs": [
    {
     "name": "stdout",
     "output_type": "stream",
     "text": [
      "\n",
      "Looping through the list:\n",
      "Number squared: 1\n",
      "Number squared: 4\n",
      "Number squared: 9\n",
      "Number squared: 16\n",
      "Number squared: 25\n"
     ]
    }
   ],
   "source": [
    "# ------------------------------\n",
    "# 3. Loops\n",
    "# ------------------------------\n",
    "# Loops let us repeat actions for each element in a list\n",
    "print(\"\\nLooping through the list:\")\n",
    "for n in numbers:\n",
    "    print(\"Number squared:\", n**2)\n",
    "\n"
   ]
  },
  {
   "cell_type": "code",
   "execution_count": 11,
   "id": "34ed8590-84e6-4e7f-bddb-0f2aef7bcc6a",
   "metadata": {},
   "outputs": [],
   "source": [
    "# ------------------------------\n",
    "# 4. Packages\n",
    "# ------------------------------\n",
    "# Python has many useful packages (libraries).\n",
    "# We \"import\" them before use.\n",
    "import numpy as np              # Numpy for math and arrays\n",
    "import matplotlib.pyplot as plt # Matplotlib for plotting\n",
    "\n"
   ]
  },
  {
   "cell_type": "code",
   "execution_count": 15,
   "id": "a41cc473-ee20-409b-ac02-3b3ef25f9000",
   "metadata": {},
   "outputs": [
    {
     "name": "stdout",
     "output_type": "stream",
     "text": [
      "\n",
      "Numpy array: [1 2 3 4 5]\n",
      "Mean: 3.0\n",
      "Standard deviation: 1.4142135623730951\n",
      "Squares with numpy: [ 1  4  9 16 25]\n"
     ]
    }
   ],
   "source": [
    "# ------------------------------\n",
    "# 5. Numpy basics\n",
    "# ------------------------------\n",
    "# Numpy arrays are like lists, but optimized for math.\n",
    "array = np.array(numbers)\n",
    "print(\"\\nNumpy array:\", array)\n",
    "\n",
    "# Useful functions:\n",
    "print(\"Mean:\", np.mean(array))\n",
    "print(\"Standard deviation:\", np.std(array))\n",
    "\n",
    "# Do a calculation: square each element\n",
    "squares = array**2\n",
    "print(\"Squares with numpy:\", squares)\n"
   ]
  },
  {
   "cell_type": "code",
   "execution_count": 17,
   "id": "76dd23c2-945d-4891-b65f-d7d7812f1e26",
   "metadata": {},
   "outputs": [
    {
     "data": {
      "image/png": "[encoded data removed]",
      "text/plain": [
       "<Figure size 640x480 with 1 Axes>"
      ]
     },
     "metadata": {},
     "output_type": "display_data"
    }
   ],
   "source": [
    "\n",
    "# ------------------------------\n",
    "# 6. Matplotlib basics\n",
    "# ------------------------------\n",
    "# Let's make a simple plot of n vs n^2\n",
    "plt.plot(array, squares, marker=\"o\", linestyle=\"-\", color=\"blue\", label=\"n^2\")\n",
    "plt.xlabel(\"n\")\n",
    "plt.ylabel(\"n squared\")\n",
    "plt.title(\"Simple Python Plot with Matplotlib\")\n",
    "plt.legend()\n",
    "plt.show()"
   ]
  },
  {
   "cell_type": "code",
   "execution_count": null,
   "id": "8cf0f229-d56b-4df7-93de-6bc995e6a580",
   "metadata": {},
   "outputs": [],
   "source": []
  }
 ],
 "metadata": {
  "kernelspec": {
   "display_name": "Python (BiomeFUN_2025)",
   "language": "python",
   "name": "biomefun_2025"
  },
  "language_info": {
   "codemirror_mode": {
    "name": "ipython",
    "version": 3
   },
   "file_extension": ".py",
   "mimetype": "text/x-python",
   "name": "python",
   "nbconvert_exporter": "python",
   "pygments_lexer": "ipython3",
   "version": "3.9.23"
  }
 },
 "nbformat": 4,
 "nbformat_minor": 5
}
